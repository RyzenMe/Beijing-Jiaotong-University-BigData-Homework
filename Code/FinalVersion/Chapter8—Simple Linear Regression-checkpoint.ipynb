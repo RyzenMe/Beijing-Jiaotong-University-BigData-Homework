{
 "cells": [
  {
   "cell_type": "markdown",
   "metadata": {},
   "source": [
    "# Simple Linear Regression"
   ]
  },
  {
   "cell_type": "markdown",
   "metadata": {},
   "source": [
    "## Cereal Nutritional Rating against Sugar Content"
   ]
  },
  {
   "cell_type": "markdown",
   "metadata": {},
   "source": [
    "Being the cereal enthusiasts we are, we might be interested in knowing what sort of relationship exists between a cereal's nutrition rating and its sugar content. Therefore, we can turn to using a simple linear regression. Using a linear model, we would also be able to look at any given cereal's sugar content, and attempt to make an estimation as to what its nutritional rating will be. Usually you'll want to throw together a scatterplot to see if a linear regression is worth your time, but given the context of the chapter, we know what we're jumping into, so we'll make the assumption that a linear regression works."
   ]
  },
  {
   "cell_type": "code",
   "execution_count": 1,
   "metadata": {
    "collapsed": true
   },
   "outputs": [],
   "source": [
    "import pandas as pd\n",
    "import numpy as np\n",
    "import matplotlib.pyplot as plt\n",
    "import seaborn\n",
    "import statsmodels.api as sm\n",
    "from IPython.display import display\n",
    "\n",
    "seaborn.set()\n",
    "pd.set_option('display.notebook_repr_html', True)\n",
    "pd.set_option('display.precision', 2)\n",
    "%matplotlib inline\n",
    "plt.rcParams['figure.figsize'] = 8, 7"
   ]
  },
  {
   "cell_type": "code",
   "execution_count": 27,
   "metadata": {
    "collapsed": false
   },
   "outputs": [],
   "source": [
    "#Load dataset into dataframe\n",
    "df = pd.read_csv(\"cereals.csv\")"
   ]
  },
  {
   "cell_type": "code",
   "execution_count": 29,
   "metadata": {
    "collapsed": false
   },
   "outputs": [
    {
     "data": {
      "text/html": [
       "<div>\n",
       "<table border=\"1\" class=\"dataframe\">\n",
       "  <thead>\n",
       "    <tr style=\"text-align: right;\">\n",
       "      <th></th>\n",
       "      <th>Name</th>\n",
       "      <th>Manuf</th>\n",
       "      <th>Type</th>\n",
       "      <th>Calories</th>\n",
       "      <th>Protein</th>\n",
       "      <th>Fat</th>\n",
       "      <th>Sodium</th>\n",
       "      <th>Fiber</th>\n",
       "      <th>Carbo</th>\n",
       "      <th>Sugars</th>\n",
       "      <th>...</th>\n",
       "      <th>Weight</th>\n",
       "      <th>Cups</th>\n",
       "      <th>Rating</th>\n",
       "      <th>Cold</th>\n",
       "      <th>Nabisco</th>\n",
       "      <th>Quaker</th>\n",
       "      <th>Kelloggs</th>\n",
       "      <th>GeneralMills</th>\n",
       "      <th>Ralston</th>\n",
       "      <th>AHFP</th>\n",
       "    </tr>\n",
       "  </thead>\n",
       "  <tbody>\n",
       "    <tr>\n",
       "      <th>0</th>\n",
       "      <td>100%_Bran</td>\n",
       "      <td>N</td>\n",
       "      <td>C</td>\n",
       "      <td>70</td>\n",
       "      <td>4</td>\n",
       "      <td>1</td>\n",
       "      <td>130</td>\n",
       "      <td>10.0</td>\n",
       "      <td>5.0</td>\n",
       "      <td>6.0</td>\n",
       "      <td>...</td>\n",
       "      <td>1.0</td>\n",
       "      <td>0.33</td>\n",
       "      <td>68.40</td>\n",
       "      <td>1</td>\n",
       "      <td>1</td>\n",
       "      <td>0</td>\n",
       "      <td>0</td>\n",
       "      <td>0</td>\n",
       "      <td>0</td>\n",
       "      <td>0</td>\n",
       "    </tr>\n",
       "    <tr>\n",
       "      <th>1</th>\n",
       "      <td>100%_Natural_Bran</td>\n",
       "      <td>Q</td>\n",
       "      <td>C</td>\n",
       "      <td>120</td>\n",
       "      <td>3</td>\n",
       "      <td>5</td>\n",
       "      <td>15</td>\n",
       "      <td>2.0</td>\n",
       "      <td>8.0</td>\n",
       "      <td>8.0</td>\n",
       "      <td>...</td>\n",
       "      <td>1.0</td>\n",
       "      <td>1.00</td>\n",
       "      <td>33.98</td>\n",
       "      <td>1</td>\n",
       "      <td>0</td>\n",
       "      <td>1</td>\n",
       "      <td>0</td>\n",
       "      <td>0</td>\n",
       "      <td>0</td>\n",
       "      <td>0</td>\n",
       "    </tr>\n",
       "    <tr>\n",
       "      <th>2</th>\n",
       "      <td>All-Bran</td>\n",
       "      <td>K</td>\n",
       "      <td>C</td>\n",
       "      <td>70</td>\n",
       "      <td>4</td>\n",
       "      <td>1</td>\n",
       "      <td>260</td>\n",
       "      <td>9.0</td>\n",
       "      <td>7.0</td>\n",
       "      <td>5.0</td>\n",
       "      <td>...</td>\n",
       "      <td>1.0</td>\n",
       "      <td>0.33</td>\n",
       "      <td>59.43</td>\n",
       "      <td>1</td>\n",
       "      <td>0</td>\n",
       "      <td>0</td>\n",
       "      <td>1</td>\n",
       "      <td>0</td>\n",
       "      <td>0</td>\n",
       "      <td>0</td>\n",
       "    </tr>\n",
       "    <tr>\n",
       "      <th>3</th>\n",
       "      <td>All-Bran_with_Extra_Fiber</td>\n",
       "      <td>K</td>\n",
       "      <td>C</td>\n",
       "      <td>50</td>\n",
       "      <td>4</td>\n",
       "      <td>0</td>\n",
       "      <td>140</td>\n",
       "      <td>14.0</td>\n",
       "      <td>8.0</td>\n",
       "      <td>0.0</td>\n",
       "      <td>...</td>\n",
       "      <td>1.0</td>\n",
       "      <td>0.50</td>\n",
       "      <td>93.70</td>\n",
       "      <td>1</td>\n",
       "      <td>0</td>\n",
       "      <td>0</td>\n",
       "      <td>1</td>\n",
       "      <td>0</td>\n",
       "      <td>0</td>\n",
       "      <td>0</td>\n",
       "    </tr>\n",
       "    <tr>\n",
       "      <th>4</th>\n",
       "      <td>Almond_Delight</td>\n",
       "      <td>R</td>\n",
       "      <td>C</td>\n",
       "      <td>110</td>\n",
       "      <td>2</td>\n",
       "      <td>2</td>\n",
       "      <td>200</td>\n",
       "      <td>1.0</td>\n",
       "      <td>14.0</td>\n",
       "      <td>8.0</td>\n",
       "      <td>...</td>\n",
       "      <td>1.0</td>\n",
       "      <td>0.75</td>\n",
       "      <td>34.38</td>\n",
       "      <td>1</td>\n",
       "      <td>0</td>\n",
       "      <td>0</td>\n",
       "      <td>0</td>\n",
       "      <td>0</td>\n",
       "      <td>1</td>\n",
       "      <td>0</td>\n",
       "    </tr>\n",
       "  </tbody>\n",
       "</table>\n",
       "<p>5 rows × 23 columns</p>\n",
       "</div>"
      ],
      "text/plain": [
       "                         Name Manuf Type  Calories  Protein  Fat  Sodium  \\\n",
       "0                  100%_Bran     N    C         70        4    1     130   \n",
       "1          100%_Natural_Bran     Q    C        120        3    5      15   \n",
       "2                   All-Bran     K    C         70        4    1     260   \n",
       "3  All-Bran_with_Extra_Fiber     K    C         50        4    0     140   \n",
       "4             Almond_Delight     R    C        110        2    2     200   \n",
       "\n",
       "   Fiber  Carbo  Sugars  ...   Weight  Cups  Rating  Cold  Nabisco  Quaker  \\\n",
       "0   10.0    5.0     6.0  ...      1.0  0.33   68.40     1        1       0   \n",
       "1    2.0    8.0     8.0  ...      1.0  1.00   33.98     1        0       1   \n",
       "2    9.0    7.0     5.0  ...      1.0  0.33   59.43     1        0       0   \n",
       "3   14.0    8.0     0.0  ...      1.0  0.50   93.70     1        0       0   \n",
       "4    1.0   14.0     8.0  ...      1.0  0.75   34.38     1        0       0   \n",
       "\n",
       "   Kelloggs  GeneralMills  Ralston  AHFP  \n",
       "0         0             0        0     0  \n",
       "1         0             0        0     0  \n",
       "2         1             0        0     0  \n",
       "3         1             0        0     0  \n",
       "4         0             0        1     0  \n",
       "\n",
       "[5 rows x 23 columns]"
      ]
     },
     "metadata": {},
     "output_type": "display_data"
    }
   ],
   "source": [
    "display(df.head())"
   ]
  },
  {
   "cell_type": "code",
   "execution_count": 5,
   "metadata": {
    "collapsed": false
   },
   "outputs": [],
   "source": [
    "sugars = df['Sugars'].values"
   ]
  },
  {
   "cell_type": "code",
   "execution_count": 6,
   "metadata": {
    "collapsed": false
   },
   "outputs": [
    {
     "data": {
      "text/plain": [
       "array([  6.,   8.,   5.,   0.,   8.,  10.,  14.,   8.,   6.,   5.,  12.,\n",
       "         1.,   9.,   7.,  13.,   3.,   2.,  12.,  13.,   7.,   0.,   3.,\n",
       "        10.,   5.,  13.,  11.,   7.,  10.,  12.,  12.,  15.,   9.,   5.,\n",
       "         3.,   4.,  11.,  10.,  11.,   6.,   9.,   3.,   6.,  12.,   3.,\n",
       "        11.,  11.,  13.,   6.,   9.,   7.,   2.,  10.,  14.,   3.,   0.,\n",
       "         0.,   6.,  nan,  12.,   8.,   6.,   2.,   3.,   0.,   0.,   0.,\n",
       "        15.,   3.,   5.,   3.,  14.,   3.,   3.,  12.,   3.,   3.,   8.])"
      ]
     },
     "execution_count": 6,
     "metadata": {},
     "output_type": "execute_result"
    }
   ],
   "source": [
    "sugars"
   ]
  },
  {
   "cell_type": "code",
   "execution_count": 7,
   "metadata": {
    "collapsed": true
   },
   "outputs": [],
   "source": [
    "rating = df['Rating'].values"
   ]
  },
  {
   "cell_type": "code",
   "execution_count": 8,
   "metadata": {
    "collapsed": false
   },
   "outputs": [
    {
     "data": {
      "text/plain": [
       "array([ 68.402973,  33.983679,  59.425505,  93.704912,  34.384843,\n",
       "        29.509541,  33.174094,  37.038562,  49.120253,  53.313813,\n",
       "        18.042851,  50.764999,  19.823573,  40.400208,  22.736446,\n",
       "        41.445019,  45.863324,  35.782791,  22.396513,  40.448772,\n",
       "        64.533816,  46.895644,  36.176196,  44.330856,  32.207582,\n",
       "        31.435973,  58.345141,  40.917047,  41.015492,  28.025765,\n",
       "        35.252444,  23.804043,  52.076897,  53.371007,  45.811716,\n",
       "        21.871292,  31.072217,  28.742414,  36.523683,  36.471512,\n",
       "        39.241114,  45.328074,  26.734515,  54.850917,  37.136863,\n",
       "        34.139765,  30.313351,  40.105965,  29.924285,  40.69232 ,\n",
       "        59.642837,  30.450843,  37.840594,  41.50354 ,  60.756112,\n",
       "        63.005645,  49.511874,  50.828392,  39.259197,  39.7034  ,\n",
       "        55.333142,  41.998933,  40.560159,  68.235885,  74.472949,\n",
       "        72.801787,  31.230054,  53.131324,  59.363993,  38.839746,\n",
       "        28.592785,  46.658844,  39.106174,  27.753301,  49.787445,\n",
       "        51.592193,  36.187559])"
      ]
     },
     "execution_count": 8,
     "metadata": {},
     "output_type": "execute_result"
    }
   ],
   "source": [
    "rating"
   ]
  },
  {
   "cell_type": "markdown",
   "metadata": {},
   "source": [
    "Notice that nan in the sugars array? One of the cereals is missing content for the sugar column, so we will have to get rid of this record. We're really only working with sugars and rating, so that's where we will delete the record from, but we could just as well delete it from the dataframe if that is what we were using to access the data. The first step is to find its index, which we will then use in our delete methods."
   ]
  },
  {
   "cell_type": "code",
   "execution_count": 9,
   "metadata": {
    "collapsed": false
   },
   "outputs": [
    {
     "name": "stdout",
     "output_type": "stream",
     "text": [
      "[[57]]\n"
     ]
    }
   ],
   "source": [
    "#Book code shows record 58; R's indexing starts at 1, unlike Python's, which starts at 0\n",
    "indx = np.argwhere(np.isnan(sugars))\n",
    "print(indx)"
   ]
  },
  {
   "cell_type": "code",
   "execution_count": 10,
   "metadata": {
    "collapsed": false
   },
   "outputs": [],
   "source": [
    "#Deleting the single null record from the sugars and rating arrays\n",
    "sugars = np.delete(sugars, 57)\n",
    "rating = np.delete(rating, 57)"
   ]
  },
  {
   "cell_type": "code",
   "execution_count": 11,
   "metadata": {
    "collapsed": false
   },
   "outputs": [
    {
     "data": {
      "text/plain": [
       "76"
      ]
     },
     "execution_count": 11,
     "metadata": {},
     "output_type": "execute_result"
    }
   ],
   "source": [
    "len(rating)"
   ]
  },
  {
   "cell_type": "code",
   "execution_count": 12,
   "metadata": {
    "collapsed": false
   },
   "outputs": [
    {
     "data": {
      "text/plain": [
       "76"
      ]
     },
     "execution_count": 12,
     "metadata": {},
     "output_type": "execute_result"
    }
   ],
   "source": [
    "len(sugars)"
   ]
  },
  {
   "cell_type": "markdown",
   "metadata": {},
   "source": [
    "Now that these two arrays are confirmed to be the same length, they can be used in calculating the linear model."
   ]
  },
  {
   "cell_type": "code",
   "execution_count": 13,
   "metadata": {
    "collapsed": false
   },
   "outputs": [
    {
     "data": {
      "text/html": [
       "<table class=\"simpletable\">\n",
       "<caption>OLS Regression Results</caption>\n",
       "<tr>\n",
       "  <th>Dep. Variable:</th>            <td>y</td>        <th>  R-squared:         </th> <td>   0.584</td>\n",
       "</tr>\n",
       "<tr>\n",
       "  <th>Model:</th>                   <td>OLS</td>       <th>  Adj. R-squared:    </th> <td>   0.578</td>\n",
       "</tr>\n",
       "<tr>\n",
       "  <th>Method:</th>             <td>Least Squares</td>  <th>  F-statistic:       </th> <td>   103.7</td>\n",
       "</tr>\n",
       "<tr>\n",
       "  <th>Date:</th>             <td>Mon, 17 Jul 2017</td> <th>  Prob (F-statistic):</th> <td>1.01e-15</td>\n",
       "</tr>\n",
       "<tr>\n",
       "  <th>Time:</th>                 <td>11:42:23</td>     <th>  Log-Likelihood:    </th> <td> -275.21</td>\n",
       "</tr>\n",
       "<tr>\n",
       "  <th>No. Observations:</th>      <td>    76</td>      <th>  AIC:               </th> <td>   554.4</td>\n",
       "</tr>\n",
       "<tr>\n",
       "  <th>Df Residuals:</th>          <td>    74</td>      <th>  BIC:               </th> <td>   559.1</td>\n",
       "</tr>\n",
       "<tr>\n",
       "  <th>Df Model:</th>              <td>     1</td>      <th>                     </th>     <td> </td>   \n",
       "</tr>\n",
       "<tr>\n",
       "  <th>Covariance Type:</th>      <td>nonrobust</td>    <th>                     </th>     <td> </td>   \n",
       "</tr>\n",
       "</table>\n",
       "<table class=\"simpletable\">\n",
       "<tr>\n",
       "    <td></td>       <th>coef</th>     <th>std err</th>      <th>t</th>      <th>P>|t|</th> <th>[95.0% Conf. Int.]</th> \n",
       "</tr>\n",
       "<tr>\n",
       "  <th>const</th> <td>   59.8530</td> <td>    1.998</td> <td>   29.964</td> <td> 0.000</td> <td>   55.873    63.833</td>\n",
       "</tr>\n",
       "<tr>\n",
       "  <th>x1</th>    <td>   -2.4614</td> <td>    0.242</td> <td>  -10.183</td> <td> 0.000</td> <td>   -2.943    -1.980</td>\n",
       "</tr>\n",
       "</table>\n",
       "<table class=\"simpletable\">\n",
       "<tr>\n",
       "  <th>Omnibus:</th>       <td>12.448</td> <th>  Durbin-Watson:     </th> <td>   1.815</td>\n",
       "</tr>\n",
       "<tr>\n",
       "  <th>Prob(Omnibus):</th> <td> 0.002</td> <th>  Jarque-Bera (JB):  </th> <td>  14.427</td>\n",
       "</tr>\n",
       "<tr>\n",
       "  <th>Skew:</th>          <td> 0.787</td> <th>  Prob(JB):          </th> <td>0.000737</td>\n",
       "</tr>\n",
       "<tr>\n",
       "  <th>Kurtosis:</th>      <td> 4.441</td> <th>  Cond. No.          </th> <td>    15.9</td>\n",
       "</tr>\n",
       "</table>"
      ],
      "text/plain": [
       "<class 'statsmodels.iolib.summary.Summary'>\n",
       "\"\"\"\n",
       "                            OLS Regression Results                            \n",
       "==============================================================================\n",
       "Dep. Variable:                      y   R-squared:                       0.584\n",
       "Model:                            OLS   Adj. R-squared:                  0.578\n",
       "Method:                 Least Squares   F-statistic:                     103.7\n",
       "Date:                Mon, 17 Jul 2017   Prob (F-statistic):           1.01e-15\n",
       "Time:                        11:42:23   Log-Likelihood:                -275.21\n",
       "No. Observations:                  76   AIC:                             554.4\n",
       "Df Residuals:                      74   BIC:                             559.1\n",
       "Df Model:                           1                                         \n",
       "Covariance Type:            nonrobust                                         \n",
       "==============================================================================\n",
       "                 coef    std err          t      P>|t|      [95.0% Conf. Int.]\n",
       "------------------------------------------------------------------------------\n",
       "const         59.8530      1.998     29.964      0.000        55.873    63.833\n",
       "x1            -2.4614      0.242    -10.183      0.000        -2.943    -1.980\n",
       "==============================================================================\n",
       "Omnibus:                       12.448   Durbin-Watson:                   1.815\n",
       "Prob(Omnibus):                  0.002   Jarque-Bera (JB):               14.427\n",
       "Skew:                           0.787   Prob(JB):                     0.000737\n",
       "Kurtosis:                       4.441   Cond. No.                         15.9\n",
       "==============================================================================\n",
       "\n",
       "Warnings:\n",
       "[1] Standard Errors assume that the covariance matrix of the errors is correctly specified.\n",
       "\"\"\""
      ]
     },
     "execution_count": 13,
     "metadata": {},
     "output_type": "execute_result"
    }
   ],
   "source": [
    "sugars2 = sm.add_constant(sugars)\n",
    "lm = sm.OLS(rating, sugars2)\n",
    "lm = lm.fit()\n",
    "lm.summary()"
   ]
  },
  {
   "cell_type": "markdown",
   "metadata": {},
   "source": [
    "## Linear Model Summary"
   ]
  },
  {
   "cell_type": "markdown",
   "metadata": {},
   "source": [
    "This summary contains a lot of useful information. R-squared gives us a proportion of variance that is explained by the regression. Ranging from 0 to 1 (think 0% to 100%), 1 is more desirable, as it suggests the model does explain all variability of the data around the mean—it suggests the model fits your data well. The adjusted R-squared does the same, but factors in the number of of observations and the degrees of freedom. This linear model doesn't appear to be great, as only 59% of the cereals' nutritional ratings are explained by sugar content, but it isn't too bad either.\n",
    "\n",
    "The p-value however is significant for sugar (x1) which permits us to reject our null hypothesis (that there is no relationship between sugar and nutritional rating). And looking at the constant and coefficient, we can say that the estimated cereal rating equals 59.8530 minus 2.4614 times the sugar content in grams, or in other words, nutritional value declines as sugar content increases."
   ]
  },
  {
   "cell_type": "code",
   "execution_count": 14,
   "metadata": {
    "collapsed": false
   },
   "outputs": [
    {
     "data": {
      "text/plain": [
       "array([ 59.85301691,  -2.46142021])"
      ]
     },
     "execution_count": 14,
     "metadata": {},
     "output_type": "execute_result"
    }
   ],
   "source": [
    "#Returns the constant and coefficient\n",
    "lm.params"
   ]
  },
  {
   "cell_type": "markdown",
   "metadata": {},
   "source": [
    "Since the model is a good enough fit, we can use it for some degree of predictive power. So let's say we're going to market with a new cereal that will have 1 gram of sugar. That can be simply calculated with the formula y_hat = 59.8530 + -2.4614\\*(1). As shown directly below, we can predict that the cereal will have a nutritional rating of 57.3916."
   ]
  },
  {
   "cell_type": "code",
   "execution_count": 34,
   "metadata": {
    "collapsed": false
   },
   "outputs": [
    {
     "data": {
      "text/plain": [
       "57.391600000000004"
      ]
     },
     "execution_count": 34,
     "metadata": {},
     "output_type": "execute_result"
    }
   ],
   "source": [
    "y = 59.8530 + -2.4614*(1)\n",
    "y"
   ]
  },
  {
   "cell_type": "code",
   "execution_count": 15,
   "metadata": {
    "collapsed": false
   },
   "outputs": [],
   "source": [
    "new_line = np.linspace(sugars.min(), sugars.max())\n",
    "new_line = sm.add_constant(new_line)\n",
    "y_hat = lm.predict(new_line)"
   ]
  },
  {
   "cell_type": "code",
   "execution_count": 32,
   "metadata": {
    "collapsed": false
   },
   "outputs": [
    {
     "data": {
      "text/plain": [
       "[<matplotlib.lines.Line2D at 0x27e72424b38>]"
      ]
     },
     "execution_count": 32,
     "metadata": {},
     "output_type": "execute_result"
    },
    {
     "data": {
      "image/png": "[encoded data removed]",
      "text/plain": [
       "<matplotlib.figure.Figure at 0x27e723da2b0>"
      ]
     },
     "metadata": {},
     "output_type": "display_data"
    }
   ],
   "source": [
    "plt.scatter(sugars, rating, alpha = 0.4)\n",
    "plt.xlabel(\"Sugars\")\n",
    "plt.ylabel(\"Nutritional Rating\")\n",
    "plt.title(\"Cereal Rating by Sugar Content\")\n",
    "plt.plot(new_line[:, 1], y_hat, 'g', alpha=0.6)"
   ]
  },
  {
   "cell_type": "markdown",
   "metadata": {},
   "source": [
    "# Residuals and Leverage"
   ]
  },
  {
   "cell_type": "markdown",
   "metadata": {},
   "source": [
    "If we saw that some bizarre observation held a lot of weight over the model and may have been throwing it off, we can take a look at the residuals and the leverage that the observations hold. This dataset doesn't seem too problematic, but in some case, there might be a cereal that has like 60 grams of sugar, far out from all of the others. If that were the case, the model would be completely different, likely to the detriment of its predictive power. While there are some hefty residuals here (like the first cereal being 23.318 rating points away from the predicted rating), the cereals are fine and don't hold any atypical or unwanted influences on the model. This is confirmed below using the *get_influence* method."
   ]
  },
  {
   "cell_type": "code",
   "execution_count": 17,
   "metadata": {
    "collapsed": false
   },
   "outputs": [
    {
     "data": {
      "text/plain": [
       "array([ 23.31847736,  -6.17797621,  11.87958915,  33.85189509,\n",
       "        -5.77681221,  -5.72927379,   7.78096006,  -3.12309321,\n",
       "         4.03575736,   5.76789715, -12.27312337,  -6.6265977 ,\n",
       "       -17.876662  ,  -2.22286743,  -5.11810815, -11.02373727,\n",
       "        -9.06685249,   5.46681663,  -5.45804115,  -2.17430343,\n",
       "         4.68079909,  -5.57311227,   0.93738121,  -3.21505985,\n",
       "         4.35302785,  -1.34142158,  15.72206557,   5.67823221,\n",
       "        10.69951763,  -2.29020937,  12.32073027, -13.896192  ,\n",
       "         4.53098115,   0.90225073,  -4.19562006, -10.90610258,\n",
       "        -4.16659779,  -4.03498058,  -8.56081264,  -1.228723  ,\n",
       "       -13.22764227,   0.24357836,  -3.58145937,   2.38216073,\n",
       "         4.35946842,   1.36237042,   2.45879685,  -4.97853064,\n",
       "        -7.77595   ,  -1.93075543,   4.71266051,  -4.78797179,\n",
       "        12.44746006, -10.96521627,   0.90309509,   3.15262809,\n",
       "         4.42737836,   8.94322263,  -0.45825521,  10.24864636,\n",
       "       -12.93124349, -11.90859727,   8.38286809,  14.61993209,\n",
       "        12.94877009,   8.29834027,   0.66256773,  11.81807715,\n",
       "       -13.62901027,   3.19965106,  -5.80991227, -13.36258227,\n",
       "        -2.56267337,  -2.68131127,  -0.87656327,  -3.97409621])"
      ]
     },
     "execution_count": 17,
     "metadata": {},
     "output_type": "execute_result"
    }
   ],
   "source": [
    "lm.resid"
   ]
  },
  {
   "cell_type": "code",
   "execution_count": 18,
   "metadata": {
    "collapsed": false
   },
   "outputs": [
    {
     "data": {
      "text/plain": [
       "-6.6265976986200883"
      ]
     },
     "execution_count": 18,
     "metadata": {},
     "output_type": "execute_result"
    }
   ],
   "source": [
    "#Remember, R's indexing starts at 1, so to get the 12th record, Python uses 11 instead of 12\n",
    "lm.resid[11]"
   ]
  },
  {
   "cell_type": "markdown",
   "metadata": {},
   "source": [
    "The *get_influence* method calculates the actual influence of every observation (in our case, every cereal). It does so by taking into account the standardized residuals ((y - y_hat) / standard_error_ith_residual) and the leverage (observations with extreme x-values, like the previous example of 60 grams of sugar), calculated as (1 / n) + ((x - x_bar)^2 / Sum(x - x_bar)^2).\n",
    "\n",
    "Observations tend to be influential if in some capacity, they have a higher residual *and* some leverage. Not all outliers are influential, and not all points with leverage are influential. But if some observation is suspicious, *Cook's Distance* can determine the influence of your observations. Typically, if an observation's *Cook Distance* comes out greater than 1, it is influential."
   ]
  },
  {
   "cell_type": "code",
   "execution_count": 24,
   "metadata": {
    "collapsed": true
   },
   "outputs": [],
   "source": [
    "infl = lm.get_influence()"
   ]
  },
  {
   "cell_type": "code",
   "execution_count": 25,
   "metadata": {
    "collapsed": false
   },
   "outputs": [
    {
     "name": "stdout",
     "output_type": "stream",
     "text": [
      "==================================================================================================\n",
      "       obs      endog     fitted     Cook's   student.   hat diag    dffits   ext.stud.     dffits\n",
      "                           value          d   residual              internal   residual           \n",
      "--------------------------------------------------------------------------------------------------\n",
      "         0     10.000      5.718      0.003      0.681      0.007      0.057      0.671      0.057\n",
      "         1     11.000      8.577      0.002      0.387      0.016      0.049      0.377      0.048\n",
      "         2     12.000     11.437      0.000      0.091      0.028      0.015      0.088      0.015\n",
      "         3     13.000     14.296      0.002     -0.210      0.044     -0.045     -0.204     -0.044\n",
      "         4     14.000     17.155      0.018     -0.517      0.063     -0.134     -0.509     -0.132\n",
      "         5     15.000     20.014      0.065     -0.832      0.086     -0.256     -0.829     -0.255\n",
      "         6     16.000     22.873      0.170     -1.157      0.113     -0.412     -1.184     -0.422\n",
      "         7     17.000     25.732      0.372     -1.495      0.143     -0.610     -1.572     -0.641\n",
      "         8     18.000      5.718      0.027      1.954      0.007      0.165      2.214      0.186\n",
      "         9     19.000      8.577      0.045      1.666      0.016      0.211      1.802      0.229\n",
      "        10     20.000     11.437      0.055      1.377      0.028      0.234      1.428      0.243\n",
      "        11     21.000     14.296      0.054      1.087      0.044      0.233      1.098      0.236\n",
      "        12     22.000     17.155      0.043      0.794      0.063      0.206      0.792      0.206\n",
      "        13     23.000     20.014      0.023      0.495      0.086      0.152      0.488      0.150\n",
      "        14     24.000     22.873      0.005      0.190      0.113      0.068      0.185      0.066\n",
      "        15     25.000     25.732      0.003     -0.125      0.143     -0.051     -0.122     -0.050\n",
      "==================================================================================================\n"
     ]
    }
   ],
   "source": [
    "print(infl.summary_table())"
   ]
  },
  {
   "cell_type": "markdown",
   "metadata": {
    "collapsed": true
   },
   "source": [
    "As none of the *Cook's Distance* values are greater than 1, we're likely safe from any needlessly influential observations in this sample."
   ]
  },
  {
   "cell_type": "markdown",
   "metadata": {},
   "source": [
    "## Inference and Model Building"
   ]
  },
  {
   "cell_type": "markdown",
   "metadata": {},
   "source": [
    "Typically when one wants to make more confident inferences, or build and deploy a functioning model, more must be done than just these steps. Validation of the model and its assumptions is an absolute necessity, otherwise expensive errors can be made along the line. These steps are solid for a sample, but across samples, the error differs. A true population regression will minimize the error across all of these samples, for the true best fit."
   ]
  },
  {
   "cell_type": "markdown",
   "metadata": {},
   "source": [
    "## Inference and Extrapolation"
   ]
  },
  {
   "cell_type": "markdown",
   "metadata": {},
   "source": [
    "Extrapolation should be avoided if possible when doing regression analysis. And if a prediction outside of the range of given x-values must be completed, a disclaimer should be provided that no x-data is available to support the prediction. This is because a relationship between x and y might exist within the sample's range, but once outside of that range, the behavior completely changes. For example, say there is a linear relationship between height and weight, and the data provided is from people that are 5'0'' to 6'6''. An extrapolation to somebody that is 7'0'' tall might work, but if we try to use this linear equation on somebody that is 1'0'', it's destined to fail. And with that, I leave you xkcd:\n",
    "\n",
    "![Extrapolation](https://i.stack.imgur.com/u5HhK.png)"
   ]
  },
  {
   "cell_type": "markdown",
   "metadata": {},
   "source": [
    "\n",
    "\n",
    "**Useful Resources:**\n",
    "* [An Introduction to Statistical Learning](http://www-bcf.usc.edu/~gareth/ISL/index.html) Chapter 3 of this book goes into the theory and mathematics of linear regressions, going in-depth with important concepts like minimizing errors and assumptions of linear models.\n",
    "* [Kevin Markham's Notebook on Linear Regressions](https://github.com/justmarkham/DAT4/blob/master/notebooks/08_linear_regression.ipynb) This notebook utilizes Python to work through regressions for the ISL linear regression example. R code *should* be found with a little Googling.\n",
    "* [Peter Prettenhofer's Walkthrough](https://www.datarobot.com/blog/ordinary-least-squares-in-python/) This is another Python resource in going through an ordinary least-squares regression. It's useful for seeing as many examples as possible, and this too does well in explaining the steps and returns."
   ]
  },
  {
   "cell_type": "code",
   "execution_count": null,
   "metadata": {
    "collapsed": true
   },
   "outputs": [],
   "source": []
  }
 ],
 "metadata": {
  "anaconda-cloud": {},
  "kernelspec": {
   "display_name": "Python [Root]",
   "language": "python",
   "name": "Python [Root]"
  },
  "language_info": {
   "codemirror_mode": {
    "name": "ipython",
    "version": 3
   },
   "file_extension": ".py",
   "mimetype": "text/x-python",
   "name": "python",
   "nbconvert_exporter": "python",
   "pygments_lexer": "ipython3",
   "version": "3.5.2"
  }
 },
 "nbformat": 4,
 "nbformat_minor": 0
}
