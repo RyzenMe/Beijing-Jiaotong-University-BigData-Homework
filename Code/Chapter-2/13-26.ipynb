{
 "cells": [
  {
   "cell_type": "code",
   "execution_count": 833,
   "metadata": {},
   "outputs": [],
   "source": [
    "import numpy as np"
   ]
  },
  {
   "cell_type": "code",
   "execution_count": 834,
   "metadata": {},
   "outputs": [],
   "source": [
    "a=np.array([10,7,20,12,75,15,9,18,4,12,8,14])"
   ]
  },
  {
   "cell_type": "code",
   "execution_count": 835,
   "metadata": {},
   "outputs": [
    {
     "data": {
      "text/plain": [
       "17.0"
      ]
     },
     "execution_count": 835,
     "metadata": {},
     "output_type": "execute_result"
    }
   ],
   "source": [
    "#平均数\n",
    "a_mean=np.mean(a)\n",
    "a_mean"
   ]
  },
  {
   "cell_type": "code",
   "execution_count": 836,
   "metadata": {},
   "outputs": [
    {
     "data": {
      "text/plain": [
       "12.0"
      ]
     },
     "execution_count": 836,
     "metadata": {},
     "output_type": "execute_result"
    }
   ],
   "source": [
    "#中位数\n",
    "a_media=np.median(a)\n",
    "a_media"
   ]
  },
  {
   "cell_type": "code",
   "execution_count": 837,
   "metadata": {},
   "outputs": [
    {
     "data": {
      "text/plain": [
       "12"
      ]
     },
     "execution_count": 837,
     "metadata": {},
     "output_type": "execute_result"
    }
   ],
   "source": [
    "#众数\n",
    "counts = np.bincount(a)\n",
    "a_zhong=np.argmax(counts)\n",
    "a_zhong"
   ]
  },
  {
   "cell_type": "code",
   "execution_count": 838,
   "metadata": {},
   "outputs": [
    {
     "data": {
      "text/plain": [
       "18.027756377319946"
      ]
     },
     "execution_count": 838,
     "metadata": {},
     "output_type": "execute_result"
    }
   ],
   "source": [
    "#标准差\n",
    "a_std=np.std(a)\n",
    "a_std"
   ]
  },
  {
   "cell_type": "code",
   "execution_count": 839,
   "metadata": {},
   "outputs": [],
   "source": [
    "from sklearn import preprocessing"
   ]
  },
  {
   "cell_type": "code",
   "execution_count": 840,
   "metadata": {},
   "outputs": [],
   "source": [
    "a=a.reshape(-1,1)"
   ]
  },
  {
   "cell_type": "code",
   "execution_count": 841,
   "metadata": {},
   "outputs": [
    {
     "data": {
      "text/plain": [
       "array([[0.08450704],\n",
       "       [0.04225352],\n",
       "       [0.22535211],\n",
       "       [0.11267606],\n",
       "       [1.        ],\n",
       "       [0.15492958],\n",
       "       [0.07042254],\n",
       "       [0.1971831 ],\n",
       "       [0.        ],\n",
       "       [0.11267606],\n",
       "       [0.05633803],\n",
       "       [0.14084507]])"
      ]
     },
     "execution_count": 841,
     "metadata": {},
     "output_type": "execute_result"
    }
   ],
   "source": [
    "#进行min-max规范化\n",
    "min_max_scaler = preprocessing.MinMaxScaler()\n",
    "min_max_scaler.fit(a.astype(float))\n",
    "a_minmax = min_max_scaler.transform(a.astype(float))\n",
    "a_minmax"
   ]
  },
  {
   "cell_type": "code",
   "execution_count": 842,
   "metadata": {},
   "outputs": [
    {
     "name": "stdout",
     "output_type": "stream",
     "text": [
      "[0.22535211]\n"
     ]
    }
   ],
   "source": [
    "#20美元的min-max规范化价格\n",
    "print(a_minmax[2])"
   ]
  },
  {
   "cell_type": "code",
   "execution_count": 843,
   "metadata": {},
   "outputs": [
    {
     "data": {
      "text/plain": [
       "39.5"
      ]
     },
     "execution_count": 843,
     "metadata": {},
     "output_type": "execute_result"
    }
   ],
   "source": [
    "#中列数\n",
    "np.max(a)/2+np.min(a)/2"
   ]
  },
  {
   "cell_type": "code",
   "execution_count": 844,
   "metadata": {},
   "outputs": [],
   "source": [
    "import pandas as pd\n",
    "a=pd.DataFrame(a)"
   ]
  },
  {
   "cell_type": "code",
   "execution_count": 845,
   "metadata": {},
   "outputs": [
    {
     "data": {
      "text/plain": [
       "array([[-0.38829014],\n",
       "       [-0.5547002 ],\n",
       "       [ 0.16641006],\n",
       "       [-0.2773501 ],\n",
       "       [ 3.21726114],\n",
       "       [-0.11094004],\n",
       "       [-0.44376016],\n",
       "       [ 0.05547002],\n",
       "       [-0.72111026],\n",
       "       [-0.2773501 ],\n",
       "       [-0.49923018],\n",
       "       [-0.16641006]])"
      ]
     },
     "execution_count": 845,
     "metadata": {},
     "output_type": "execute_result"
    }
   ],
   "source": [
    "#Z-score标准化价格\n",
    "a_scaled = preprocessing.scale(a)\n",
    "a_scaled "
   ]
  },
  {
   "cell_type": "code",
   "execution_count": 846,
   "metadata": {},
   "outputs": [
    {
     "name": "stdout",
     "output_type": "stream",
     "text": [
      "[0.16641006]\n"
     ]
    }
   ],
   "source": [
    "#20美元的Z-score标准化价格\n",
    "print(a_scaled[2])"
   ]
  },
  {
   "cell_type": "code",
   "execution_count": 847,
   "metadata": {},
   "outputs": [
    {
     "data": {
      "text/html": [
       "<div>\n",
       "<style scoped>\n",
       "    .dataframe tbody tr th:only-of-type {\n",
       "        vertical-align: middle;\n",
       "    }\n",
       "\n",
       "    .dataframe tbody tr th {\n",
       "        vertical-align: top;\n",
       "    }\n",
       "\n",
       "    .dataframe thead th {\n",
       "        text-align: right;\n",
       "    }\n",
       "</style>\n",
       "<table border=\"1\" class=\"dataframe\">\n",
       "  <thead>\n",
       "    <tr style=\"text-align: right;\">\n",
       "      <th></th>\n",
       "      <th>0</th>\n",
       "    </tr>\n",
       "  </thead>\n",
       "  <tbody>\n",
       "    <tr>\n",
       "      <th>0</th>\n",
       "      <td>0.10</td>\n",
       "    </tr>\n",
       "    <tr>\n",
       "      <th>1</th>\n",
       "      <td>0.07</td>\n",
       "    </tr>\n",
       "    <tr>\n",
       "      <th>2</th>\n",
       "      <td>0.20</td>\n",
       "    </tr>\n",
       "    <tr>\n",
       "      <th>3</th>\n",
       "      <td>0.12</td>\n",
       "    </tr>\n",
       "    <tr>\n",
       "      <th>4</th>\n",
       "      <td>0.75</td>\n",
       "    </tr>\n",
       "    <tr>\n",
       "      <th>5</th>\n",
       "      <td>0.15</td>\n",
       "    </tr>\n",
       "    <tr>\n",
       "      <th>6</th>\n",
       "      <td>0.09</td>\n",
       "    </tr>\n",
       "    <tr>\n",
       "      <th>7</th>\n",
       "      <td>0.18</td>\n",
       "    </tr>\n",
       "    <tr>\n",
       "      <th>8</th>\n",
       "      <td>0.04</td>\n",
       "    </tr>\n",
       "    <tr>\n",
       "      <th>9</th>\n",
       "      <td>0.12</td>\n",
       "    </tr>\n",
       "    <tr>\n",
       "      <th>10</th>\n",
       "      <td>0.08</td>\n",
       "    </tr>\n",
       "    <tr>\n",
       "      <th>11</th>\n",
       "      <td>0.14</td>\n",
       "    </tr>\n",
       "  </tbody>\n",
       "</table>\n",
       "</div>"
      ],
      "text/plain": [
       "       0\n",
       "0   0.10\n",
       "1   0.07\n",
       "2   0.20\n",
       "3   0.12\n",
       "4   0.75\n",
       "5   0.15\n",
       "6   0.09\n",
       "7   0.18\n",
       "8   0.04\n",
       "9   0.12\n",
       "10  0.08\n",
       "11  0.14"
      ]
     },
     "execution_count": 847,
     "metadata": {},
     "output_type": "execute_result"
    }
   ],
   "source": [
    "df1=a/10**np.ceil(np.log10(a.abs().max()))\n",
    "df1"
   ]
  },
  {
   "cell_type": "code",
   "execution_count": 848,
   "metadata": {},
   "outputs": [
    {
     "name": "stdout",
     "output_type": "stream",
     "text": [
      "0    0.2\n",
      "Name: 2, dtype: float64\n"
     ]
    }
   ],
   "source": [
    "#20美元的小数标规范化价格\n",
    "print(df1.loc[2])"
   ]
  },
  {
   "cell_type": "code",
   "execution_count": 849,
   "metadata": {},
   "outputs": [
    {
     "data": {
      "text/plain": [
       "0.8320502943378437"
      ]
     },
     "execution_count": 849,
     "metadata": {},
     "output_type": "execute_result"
    }
   ],
   "source": [
    "#倾斜度计算\n",
    "a_qing=3*(a_mean-a_media)/a_std\n",
    "a_qing"
   ]
  },
  {
   "cell_type": "code",
   "execution_count": 850,
   "metadata": {},
   "outputs": [
    {
     "name": "stdout",
     "output_type": "stream",
     "text": [
      "[3.21726114]\n",
      "75是离群值\n"
     ]
    }
   ],
   "source": [
    "#离群值认为是75，用Z-score的方法验证是不是该值\n",
    "print(a_scaled[4])\n",
    "if  a_scaled[4] < -3 or a_scaled[4] > 3:\n",
    "    print(\"75是离群值\")\n",
    "else:\n",
    "    print(\"75不是离群值\")"
   ]
  },
  {
   "cell_type": "code",
   "execution_count": 851,
   "metadata": {},
   "outputs": [
    {
     "data": {
      "text/plain": [
       "array([ 8.5, 12. , 16.5])"
      ]
     },
     "execution_count": 851,
     "metadata": {},
     "output_type": "execute_result"
    }
   ],
   "source": [
    "#用IQR的方法计算是否为离散值，先求Q1和Q3\n",
    "np.percentile(a, (25, 50, 75), interpolation='midpoint')"
   ]
  },
  {
   "cell_type": "code",
   "execution_count": 852,
   "metadata": {},
   "outputs": [
    {
     "name": "stdout",
     "output_type": "stream",
     "text": [
      "IQR=8.000000\n",
      "Q1-IQR=0.500000\n",
      "Q3+IQR=24.500000\n",
      "75是离群值\n"
     ]
    }
   ],
   "source": [
    "#得到Q1,Q3进行计算\n",
    "Q1=8.5\n",
    "Q3=16.5\n",
    "IQR=Q3-Q1\n",
    "x=Q1-IQR\n",
    "y=Q3+IQR\n",
    "print(\"IQR=%f\"%IQR)\n",
    "print(\"Q1-IQR=%f\"%x)\n",
    "print(\"Q3+IQR=%f\"%y)\n",
    "if  75<Q1-IQR or 75>Q3-IQR:\n",
    "    print(\"75是离群值\")\n",
    "else:\n",
    "    print(\"75不是离群值\")"
   ]
  },
  {
   "cell_type": "code",
   "execution_count": 853,
   "metadata": {},
   "outputs": [
    {
     "name": "stdout",
     "output_type": "stream",
     "text": [
      "该项不是离群值\n",
      "该项不是离群值\n",
      "该项不是离群值\n",
      "该项不是离群值\n",
      "该项是离群值\n",
      "该项不是离群值\n",
      "该项不是离群值\n",
      "该项不是离群值\n",
      "该项不是离群值\n",
      "该项不是离群值\n",
      "该项不是离群值\n",
      "该项不是离群值\n"
     ]
    }
   ],
   "source": [
    "#使用Z-score方法识别所有可能的离群值\n",
    "i=0\n",
    "for i in range(12):\n",
    "    if  a_scaled[i] < -3 or a_scaled[i] > 3:\n",
    "        print(\"该项是离群值\")\n",
    "    else:\n",
    "        print(\"该项不是离群值\")\n",
    "    i=i+1"
   ]
  },
  {
   "cell_type": "code",
   "execution_count": 854,
   "metadata": {
    "scrolled": true
   },
   "outputs": [
    {
     "name": "stdout",
     "output_type": "stream",
     "text": [
      "该值不是离群值\n",
      "该值不是离群值\n",
      "该值不是离群值\n",
      "该值不是离群值\n",
      "该值是离群值\n",
      "该值不是离群值\n",
      "该值不是离群值\n",
      "该值不是离群值\n",
      "该值不是离群值\n",
      "该值不是离群值\n",
      "该值不是离群值\n",
      "该值不是离群值\n"
     ]
    }
   ],
   "source": [
    "#使用IQR方法识别所有可能的离群值\n",
    "j=0\n",
    "for j in range(12):\n",
    "    if  a.values[j]<0.5 or a.values[j]>24.5:\n",
    "        print(\"该值是离群值\")\n",
    "    else:\n",
    "        print(\"该值不是离群值\")\n",
    "    j=j+1"
   ]
  },
  {
   "cell_type": "code",
   "execution_count": 855,
   "metadata": {},
   "outputs": [
    {
     "name": "stdout",
     "output_type": "stream",
     "text": [
      "11.727273\n",
      "12.000000\n"
     ]
    }
   ],
   "source": [
    "#26(a)\n",
    "a1=np.array([10,7,20,12,15,9,18,4,12,8,14])\n",
    "a1_mean=np.mean(a1)#去除离散值以后的均值\n",
    "print(\"%f\"%a1_mean)\n",
    "a1_media=np.median(a1)#去除离散值以后的中位值\n",
    "print(\"%f\"%a1_media)"
   ]
  }
 ],
 "metadata": {
  "kernelspec": {
   "display_name": "Python 3",
   "language": "python",
   "name": "python3"
  },
  "language_info": {
   "codemirror_mode": {
    "name": "ipython",
    "version": 3
   },
   "file_extension": ".py",
   "mimetype": "text/x-python",
   "name": "python",
   "nbconvert_exporter": "python",
   "pygments_lexer": "ipython3",
   "version": "3.6.5"
  }
 },
 "nbformat": 4,
 "nbformat_minor": 4
}
