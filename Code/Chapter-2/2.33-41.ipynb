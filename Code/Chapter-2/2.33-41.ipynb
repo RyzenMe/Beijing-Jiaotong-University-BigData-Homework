{
 "cells": [
  {
   "cell_type": "code",
   "execution_count": 512,
   "metadata": {},
   "outputs": [],
   "source": [
    "import pandas as pd\n",
    "import numpy as np\n",
    "import matplotlib.pyplot as plt\n",
    "from sklearn import preprocessing"
   ]
  },
  {
   "cell_type": "code",
   "execution_count": 513,
   "metadata": {},
   "outputs": [
    {
     "data": {
      "text/html": [
       "<div>\n",
       "<style scoped>\n",
       "    .dataframe tbody tr th:only-of-type {\n",
       "        vertical-align: middle;\n",
       "    }\n",
       "\n",
       "    .dataframe tbody tr th {\n",
       "        vertical-align: top;\n",
       "    }\n",
       "\n",
       "    .dataframe thead th {\n",
       "        text-align: right;\n",
       "    }\n",
       "</style>\n",
       "<table border=\"1\" class=\"dataframe\">\n",
       "  <thead>\n",
       "    <tr style=\"text-align: right;\">\n",
       "      <th></th>\n",
       "      <th>State</th>\n",
       "      <th>Account Length</th>\n",
       "      <th>Area Code</th>\n",
       "      <th>Phone</th>\n",
       "      <th>Int'l Plan</th>\n",
       "      <th>VMail Plan</th>\n",
       "      <th>VMail Message</th>\n",
       "      <th>Day Mins</th>\n",
       "      <th>Day Calls</th>\n",
       "      <th>Day Charge</th>\n",
       "      <th>...</th>\n",
       "      <th>Eve Calls</th>\n",
       "      <th>Eve Charge</th>\n",
       "      <th>Night Mins</th>\n",
       "      <th>Night Calls</th>\n",
       "      <th>Night Charge</th>\n",
       "      <th>Intl Mins</th>\n",
       "      <th>Intl Calls</th>\n",
       "      <th>Intl Charge</th>\n",
       "      <th>CustServ Calls</th>\n",
       "      <th>Churn?</th>\n",
       "    </tr>\n",
       "  </thead>\n",
       "  <tbody>\n",
       "  </tbody>\n",
       "</table>\n",
       "<p>0 rows × 21 columns</p>\n",
       "</div>"
      ],
      "text/plain": [
       "Empty DataFrame\n",
       "Columns: [State, Account Length, Area Code, Phone, Int'l Plan, VMail Plan, VMail Message, Day Mins, Day Calls, Day Charge, Eve Mins, Eve Calls, Eve Charge, Night Mins, Night Calls, Night Charge, Intl Mins, Intl Calls, Intl Charge, CustServ Calls, Churn?]\n",
       "Index: []\n",
       "\n",
       "[0 rows x 21 columns]"
      ]
     },
     "execution_count": 513,
     "metadata": {},
     "output_type": "execute_result"
    }
   ],
   "source": [
    "#33.\n",
    "a = pd.read_csv('churn.txt')         #读取文件\n",
    "a = a.replace('null',np.NaN)         #如果存在缺失值，将其全换成np.NaN\n",
    "a_null =a[a.isnull().values==True]   #显示存在缺失值的行列，并显示出其数值\n",
    "a_null                               #可以清楚的看到，该数据集中没有缺失的数据值"
   ]
  },
  {
   "cell_type": "code",
   "execution_count": 514,
   "metadata": {
    "scrolled": false
   },
   "outputs": [
    {
     "data": {
      "text/plain": [
       "State\n",
       "AK    3\n",
       "AL    3\n",
       "AR    3\n",
       "AZ    3\n",
       "CA    3\n",
       "CO    3\n",
       "CT    3\n",
       "DC    3\n",
       "DE    3\n",
       "FL    3\n",
       "GA    3\n",
       "HI    3\n",
       "IA    3\n",
       "ID    3\n",
       "IL    3\n",
       "IN    3\n",
       "KS    3\n",
       "KY    3\n",
       "LA    3\n",
       "MA    3\n",
       "MD    3\n",
       "ME    3\n",
       "MI    3\n",
       "MN    3\n",
       "MO    3\n",
       "MS    3\n",
       "MT    3\n",
       "NC    3\n",
       "ND    3\n",
       "NE    3\n",
       "NH    3\n",
       "NJ    3\n",
       "NM    3\n",
       "NV    3\n",
       "NY    3\n",
       "OH    3\n",
       "OK    3\n",
       "OR    3\n",
       "PA    3\n",
       "RI    3\n",
       "SC    3\n",
       "SD    3\n",
       "TN    3\n",
       "TX    3\n",
       "UT    3\n",
       "VA    3\n",
       "VT    3\n",
       "WA    3\n",
       "WI    3\n",
       "WV    3\n",
       "WY    3\n",
       "Name: Area Code, dtype: int64"
      ]
     },
     "execution_count": 514,
     "metadata": {},
     "output_type": "execute_result"
    }
   ],
   "source": [
    "#34.比较area code和state字段\n",
    "a.groupby(['State'])['Area Code'].nunique() #可以看出每个State的Area Code都是只有三个唯一值"
   ]
  },
  {
   "cell_type": "code",
   "execution_count": 515,
   "metadata": {},
   "outputs": [
    {
     "data": {
      "text/plain": [
       "State\n",
       "AK    [408, 415, 510]\n",
       "AL    [510, 408, 415]\n",
       "AR    [510, 415, 408]\n",
       "AZ    [415, 408, 510]\n",
       "CA    [415, 408, 510]\n",
       "CO    [408, 415, 510]\n",
       "CT    [415, 408, 510]\n",
       "DC    [415, 510, 408]\n",
       "DE    [408, 510, 415]\n",
       "FL    [415, 510, 408]\n",
       "GA    [415, 408, 510]\n",
       "HI    [510, 415, 408]\n",
       "IA    [408, 415, 510]\n",
       "ID    [408, 415, 510]\n",
       "IL    [415, 408, 510]\n",
       "IN    [415, 408, 510]\n",
       "KS    [415, 408, 510]\n",
       "KY    [415, 408, 510]\n",
       "LA    [408, 415, 510]\n",
       "MA    [510, 415, 408]\n",
       "MD    [408, 510, 415]\n",
       "ME    [415, 510, 408]\n",
       "MI    [415, 510, 408]\n",
       "MN    [510, 408, 415]\n",
       "MO    [415, 510, 408]\n",
       "MS    [408, 415, 510]\n",
       "MT    [510, 408, 415]\n",
       "NC    [408, 415, 510]\n",
       "ND    [408, 415, 510]\n",
       "NE    [415, 408, 510]\n",
       "NH    [510, 408, 415]\n",
       "NJ    [415, 408, 510]\n",
       "NM    [510, 415, 408]\n",
       "NV    [415, 510, 408]\n",
       "NY    [415, 408, 510]\n",
       "OH    [415, 408, 510]\n",
       "OK    [415, 408, 510]\n",
       "OR    [408, 415, 510]\n",
       "PA    [415, 408, 510]\n",
       "RI    [415, 408, 510]\n",
       "SC    [415, 408, 510]\n",
       "SD    [408, 415, 510]\n",
       "TN    [415, 408, 510]\n",
       "TX    [415, 510, 408]\n",
       "UT    [415, 408, 510]\n",
       "VA    [510, 408, 415]\n",
       "VT    [510, 415, 408]\n",
       "WA    [415, 408, 510]\n",
       "WI    [510, 415, 408]\n",
       "WV    [415, 510, 408]\n",
       "WY    [408, 415, 510]\n",
       "Name: Area Code, dtype: object"
      ]
     },
     "execution_count": 515,
     "metadata": {},
     "output_type": "execute_result"
    }
   ],
   "source": [
    "a.groupby(['State'])['Area Code'].unique() #求一下每个State的唯一值是多少，可以发现都是408 415 510"
   ]
  },
  {
   "cell_type": "code",
   "execution_count": 516,
   "metadata": {},
   "outputs": [
    {
     "data": {
      "text/plain": [
       "Area Code\n",
       "408    51\n",
       "415    51\n",
       "510    51\n",
       "Name: State, dtype: int64"
      ]
     },
     "execution_count": 516,
     "metadata": {},
     "output_type": "execute_result"
    }
   ],
   "source": [
    "a.groupby(['Area Code'])['State'].nunique() #可以看出每个Area Code的State都是有51个唯一值"
   ]
  },
  {
   "cell_type": "code",
   "execution_count": 517,
   "metadata": {},
   "outputs": [
    {
     "data": {
      "text/plain": [
       "Area Code\n",
       "408    [OH, LA, IA, ID, CO, WY, MT, AZ, OK, AK, NJ, G...\n",
       "415    [KS, OH, NJ, OK, MO, WV, IN, RI, IA, NY, TX, F...\n",
       "510    [AL, MA, MT, VT, VA, HI, NH, AR, WI, MN, TX, N...\n",
       "Name: State, dtype: object"
      ]
     },
     "execution_count": 517,
     "metadata": {},
     "output_type": "execute_result"
    }
   ],
   "source": [
    "a.groupby(['Area Code'])['State'].unique() #求出每个Area Code的唯一值是多少"
   ]
  },
  {
   "cell_type": "code",
   "execution_count": 518,
   "metadata": {},
   "outputs": [
    {
     "data": {
      "image/png": "[encoded data removed]",
      "text/plain": [
       "<Figure size 432x288 with 1 Axes>"
      ]
     },
     "metadata": {},
     "output_type": "display_data"
    }
   ],
   "source": [
    "#35.用图形表示\n",
    "a['counter'] = range(len(a))      #给数据集中增添一列，从0到最大行数\n",
    "a.plot.scatter(x='counter',y = 'CustServ Calls')\n",
    "plt.show()"
   ]
  },
  {
   "cell_type": "code",
   "execution_count": 519,
   "metadata": {},
   "outputs": [
    {
     "name": "stdout",
     "output_type": "stream",
     "text": [
      "极差 9\n"
     ]
    }
   ],
   "source": [
    "#36.先求出所有客户服务电话的极差\n",
    "a = pd.read_csv('churn.txt')\n",
    "a_calls = a['CustServ Calls']\n",
    "print('极差',max(a_calls)-min(a_calls))"
   ]
  },
  {
   "cell_type": "code",
   "execution_count": 520,
   "metadata": {},
   "outputs": [
    {
     "data": {
      "text/plain": [
       "array([[-0.42793202],\n",
       "       [-0.42793202],\n",
       "       [-1.1882185 ],\n",
       "       ...,\n",
       "       [ 0.33235445],\n",
       "       [ 0.33235445],\n",
       "       [-1.1882185 ]])"
      ]
     },
     "execution_count": 520,
     "metadata": {},
     "output_type": "execute_result"
    }
   ],
   "source": [
    "#然后求出所有客户服务电话的Z-score标准化\n",
    "a=pd.DataFrame(a_calls)\n",
    "a_scaled = preprocessing.scale(a)\n",
    "a_scaled"
   ]
  },
  {
   "cell_type": "code",
   "execution_count": 521,
   "metadata": {},
   "outputs": [
    {
     "name": "stdout",
     "output_type": "stream",
     "text": [
      "z_score离群值 7 332\n",
      "z_score离群值 7 522\n",
      "z_score离群值 9 542\n",
      "z_score离群值 6 694\n",
      "z_score离群值 6 721\n",
      "z_score离群值 6 778\n",
      "z_score离群值 7 902\n",
      "z_score离群值 6 908\n",
      "z_score离群值 6 974\n",
      "z_score离群值 6 1142\n",
      "z_score离群值 6 1273\n",
      "z_score离群值 6 1325\n",
      "z_score离群值 6 1407\n",
      "z_score离群值 8 1502\n",
      "z_score离群值 6 1638\n",
      "z_score离群值 7 1694\n",
      "z_score离群值 7 1831\n",
      "z_score离群值 7 1865\n",
      "z_score离群值 8 1912\n",
      "z_score离群值 6 1919\n",
      "z_score离群值 6 2223\n",
      "z_score离群值 6 2327\n",
      "z_score离群值 9 2380\n",
      "z_score离群值 6 2387\n",
      "z_score离群值 6 2428\n",
      "z_score离群值 6 2553\n",
      "z_score离群值 6 2786\n",
      "z_score离群值 7 2953\n",
      "z_score离群值 6 2958\n",
      "z_score离群值 6 2961\n",
      "z_score离群值 7 2979\n",
      "z_score离群值 6 3026\n",
      "z_score离群值 6 3081\n",
      "z_score离群值 7 3112\n",
      "z_score离群值 6 3190\n",
      "z_score去除离群值后的极差 5\n"
     ]
    }
   ],
   "source": [
    "#使用Z-score方法识别所有可能的离群值，并求出去除离群值以后的极差，可以发现之前极差是9，现在极差是5，差距很大\n",
    "for i in range(len(a_calls)):\n",
    "    if  a_scaled[i] < -3 or a_scaled[i] > 3:\n",
    "        print('z_score离群值',a_calls[i],i)\n",
    "        a_calls.pop(i)\n",
    "print('z_score去除离群值后的极差',max(a_calls)-min(a_calls))"
   ]
  },
  {
   "cell_type": "code",
   "execution_count": 522,
   "metadata": {},
   "outputs": [
    {
     "data": {
      "text/plain": [
       "array([1., 1., 2.])"
      ]
     },
     "execution_count": 522,
     "metadata": {},
     "output_type": "execute_result"
    }
   ],
   "source": [
    "#用IQR的方法计算是否为离散值，先求出Q1和Q3\n",
    "np.percentile(a, (25, 50, 75), interpolation='midpoint')"
   ]
  },
  {
   "cell_type": "code",
   "execution_count": 523,
   "metadata": {},
   "outputs": [
    {
     "name": "stdout",
     "output_type": "stream",
     "text": [
      "IQR=1.000000\n",
      "Q1-IQR=0.000000\n",
      "Q3+IQR=3.000000\n"
     ]
    }
   ],
   "source": [
    "#可以看出Q1=1,Q3=2\n",
    "Q1=1\n",
    "Q3=2\n",
    "IQR=Q3-Q1\n",
    "x=Q1-IQR\n",
    "y=Q3+IQR\n",
    "print(\"IQR=%f\"%IQR)\n",
    "print(\"Q1-IQR=%f\"%x)\n",
    "print(\"Q3+IQR=%f\"%y)"
   ]
  },
  {
   "cell_type": "code",
   "execution_count": 524,
   "metadata": {},
   "outputs": [
    {
     "name": "stdout",
     "output_type": "stream",
     "text": [
      "IQR离群值 4 10\n",
      "IQR离群值 4 14\n",
      "IQR离群值 4 15\n",
      "IQR离群值 5 21\n",
      "IQR离群值 5 48\n",
      "IQR离群值 5 54\n",
      "IQR离群值 4 69\n",
      "IQR离群值 4 77\n",
      "IQR离群值 4 86\n",
      "IQR离群值 4 97\n",
      "IQR离群值 4 100\n",
      "IQR离群值 4 105\n",
      "IQR离群值 4 112\n",
      "IQR离群值 4 126\n",
      "IQR离群值 4 127\n",
      "IQR离群值 4 133\n",
      "IQR离群值 5 136\n",
      "IQR离群值 5 154\n",
      "IQR离群值 4 180\n",
      "IQR离群值 5 181\n",
      "IQR离群值 4 198\n",
      "IQR离群值 4 228\n",
      "IQR离群值 5 235\n",
      "IQR离群值 4 248\n",
      "IQR离群值 4 250\n",
      "IQR离群值 4 251\n",
      "IQR离群值 4 255\n",
      "IQR离群值 4 266\n",
      "IQR离群值 5 293\n",
      "IQR离群值 4 298\n",
      "IQR离群值 4 307\n",
      "IQR离群值 7 332\n",
      "IQR离群值 4 349\n",
      "IQR离群值 4 350\n",
      "IQR离群值 4 351\n",
      "IQR离群值 4 366\n",
      "IQR离群值 4 385\n",
      "IQR离群值 5 392\n",
      "IQR离群值 4 404\n",
      "IQR离群值 4 407\n",
      "IQR离群值 4 449\n",
      "IQR离群值 4 473\n",
      "IQR离群值 4 498\n",
      "IQR离群值 5 509\n",
      "IQR离群值 4 521\n",
      "IQR离群值 7 522\n",
      "IQR离群值 4 534\n",
      "IQR离群值 9 542\n",
      "IQR离群值 5 547\n",
      "IQR离群值 4 549\n",
      "IQR离群值 4 550\n",
      "IQR离群值 5 588\n",
      "IQR离群值 4 612\n",
      "IQR离群值 4 627\n",
      "IQR离群值 5 635\n",
      "IQR离群值 5 655\n",
      "IQR离群值 4 692\n",
      "IQR离群值 6 694\n",
      "IQR离群值 4 711\n",
      "IQR离群值 6 721\n",
      "IQR离群值 5 736\n",
      "IQR离群值 5 742\n",
      "IQR离群值 5 771\n",
      "IQR离群值 6 778\n",
      "IQR离群值 5 841\n",
      "IQR离群值 4 865\n",
      "IQR离群值 4 871\n",
      "IQR离群值 5 874\n",
      "IQR离群值 4 879\n",
      "IQR离群值 4 894\n",
      "IQR离群值 7 902\n",
      "IQR离群值 4 905\n",
      "IQR离群值 6 908\n",
      "IQR离群值 5 911\n",
      "IQR离群值 4 935\n",
      "IQR离群值 4 944\n",
      "IQR离群值 4 951\n",
      "IQR离群值 6 974\n",
      "IQR离群值 4 977\n",
      "IQR离群值 4 978\n",
      "IQR离群值 5 1038\n",
      "IQR离群值 4 1040\n",
      "IQR离群值 4 1044\n",
      "IQR离群值 4 1045\n",
      "IQR离群值 4 1077\n",
      "IQR离群值 4 1102\n",
      "IQR离群值 4 1104\n",
      "IQR离群值 5 1121\n",
      "IQR离群值 5 1133\n",
      "IQR离群值 6 1142\n",
      "IQR离群值 5 1150\n",
      "IQR离群值 4 1155\n",
      "IQR离群值 4 1176\n",
      "IQR离群值 4 1192\n",
      "IQR离群值 5 1193\n",
      "IQR离群值 4 1197\n",
      "IQR离群值 4 1217\n",
      "IQR离群值 4 1235\n",
      "IQR离群值 4 1240\n",
      "IQR离群值 5 1241\n",
      "IQR离群值 5 1246\n",
      "IQR离群值 4 1253\n",
      "IQR离群值 4 1262\n",
      "IQR离群值 4 1269\n",
      "IQR离群值 4 1272\n",
      "IQR离群值 6 1273\n",
      "IQR离群值 4 1282\n",
      "IQR离群值 5 1284\n",
      "IQR离群值 4 1285\n",
      "IQR离群值 6 1325\n",
      "IQR离群值 4 1339\n",
      "IQR离群值 4 1345\n",
      "IQR离群值 4 1368\n",
      "IQR离群值 4 1373\n",
      "IQR离群值 4 1376\n",
      "IQR离群值 4 1388\n",
      "IQR离群值 4 1396\n",
      "IQR离群值 4 1399\n",
      "IQR离群值 4 1405\n",
      "IQR离群值 6 1407\n",
      "IQR离群值 4 1437\n",
      "IQR离群值 4 1448\n",
      "IQR离群值 4 1449\n",
      "IQR离群值 4 1493\n",
      "IQR离群值 8 1502\n",
      "IQR离群值 4 1531\n",
      "IQR离群值 4 1537\n",
      "IQR离群值 5 1538\n",
      "IQR离群值 4 1610\n",
      "IQR离群值 4 1619\n",
      "IQR离群值 4 1635\n",
      "IQR离群值 6 1638\n",
      "IQR离群值 5 1662\n",
      "IQR离群值 5 1673\n",
      "IQR离群值 7 1694\n",
      "IQR离群值 4 1699\n",
      "IQR离群值 4 1702\n",
      "IQR离群值 5 1707\n",
      "IQR离群值 4 1708\n",
      "IQR离群值 4 1712\n",
      "IQR离群值 5 1713\n",
      "IQR离群值 4 1728\n",
      "IQR离群值 4 1765\n",
      "IQR离群值 5 1802\n",
      "IQR离群值 7 1831\n",
      "IQR离群值 4 1835\n",
      "IQR离群值 4 1844\n",
      "IQR离群值 5 1851\n",
      "IQR离群值 7 1865\n",
      "IQR离群值 4 1880\n",
      "IQR离群值 4 1890\n",
      "IQR离群值 4 1904\n",
      "IQR离群值 4 1911\n",
      "IQR离群值 8 1912\n",
      "IQR离群值 6 1919\n",
      "IQR离群值 4 1922\n",
      "IQR离群值 4 1950\n",
      "IQR离群值 5 1970\n",
      "IQR离群值 5 1973\n",
      "IQR离群值 5 1974\n",
      "IQR离群值 4 1980\n",
      "IQR离群值 4 2004\n",
      "IQR离群值 5 2031\n",
      "IQR离群值 4 2045\n",
      "IQR离群值 4 2067\n",
      "IQR离群值 4 2076\n",
      "IQR离群值 4 2087\n",
      "IQR离群值 4 2112\n",
      "IQR离群值 4 2117\n",
      "IQR离群值 4 2140\n",
      "IQR离群值 4 2187\n",
      "IQR离群值 4 2203\n",
      "IQR离群值 4 2211\n",
      "IQR离群值 5 2218\n",
      "IQR离群值 6 2223\n",
      "IQR离群值 4 2237\n",
      "IQR离群值 5 2248\n",
      "IQR离群值 4 2261\n",
      "IQR离群值 4 2274\n",
      "IQR离群值 5 2283\n",
      "IQR离群值 5 2322\n",
      "IQR离群值 4 2324\n",
      "IQR离群值 6 2327\n",
      "IQR离群值 4 2337\n",
      "IQR离群值 4 2369\n",
      "IQR离群值 4 2370\n",
      "IQR离群值 9 2380\n",
      "IQR离群值 6 2387\n",
      "IQR离群值 4 2395\n",
      "IQR离群值 5 2402\n",
      "IQR离群值 5 2415\n",
      "IQR离群值 4 2421\n",
      "IQR离群值 6 2428\n",
      "IQR离群值 4 2432\n",
      "IQR离群值 4 2437\n",
      "IQR离群值 5 2444\n",
      "IQR离群值 4 2456\n",
      "IQR离群值 4 2459\n",
      "IQR离群值 4 2489\n",
      "IQR离群值 5 2493\n",
      "IQR离群值 5 2515\n",
      "IQR离群值 6 2553\n",
      "IQR离群值 4 2581\n",
      "IQR离群值 5 2592\n",
      "IQR离群值 4 2608\n",
      "IQR离群值 4 2621\n",
      "IQR离群值 4 2622\n",
      "IQR离群值 4 2628\n",
      "IQR离群值 5 2646\n",
      "IQR离群值 4 2660\n",
      "IQR离群值 4 2677\n",
      "IQR离群值 4 2705\n",
      "IQR离群值 5 2732\n",
      "IQR离群值 4 2772\n",
      "IQR离群值 5 2785\n",
      "IQR离群值 6 2786\n",
      "IQR离群值 4 2801\n",
      "IQR离群值 4 2820\n",
      "IQR离群值 5 2827\n",
      "IQR离群值 4 2828\n",
      "IQR离群值 4 2861\n",
      "IQR离群值 4 2901\n",
      "IQR离群值 5 2903\n",
      "IQR离群值 4 2914\n",
      "IQR离群值 4 2915\n",
      "IQR离群值 4 2918\n",
      "IQR离群值 4 2926\n",
      "IQR离群值 4 2941\n",
      "IQR离群值 5 2952\n",
      "IQR离群值 7 2953\n",
      "IQR离群值 6 2958\n",
      "IQR离群值 5 2960\n",
      "IQR离群值 6 2961\n",
      "IQR离群值 7 2979\n",
      "IQR离群值 5 3009\n",
      "IQR离群值 5 3017\n",
      "IQR离群值 4 3023\n",
      "IQR离群值 6 3026\n",
      "IQR离群值 4 3027\n",
      "IQR离群值 4 3035\n",
      "IQR离群值 4 3050\n",
      "IQR离群值 4 3064\n",
      "IQR离群值 5 3079\n",
      "IQR离群值 6 3081\n",
      "IQR离群值 7 3112\n",
      "IQR离群值 4 3115\n",
      "IQR离群值 4 3125\n",
      "IQR离群值 4 3127\n",
      "IQR离群值 5 3131\n",
      "IQR离群值 5 3140\n",
      "IQR离群值 5 3144\n",
      "IQR离群值 4 3147\n",
      "IQR离群值 4 3157\n",
      "IQR离群值 4 3169\n",
      "IQR离群值 5 3181\n",
      "IQR离群值 6 3190\n",
      "IQR离群值 5 3228\n",
      "IQR离群值 5 3243\n",
      "IQR离群值 4 3247\n",
      "IQR离群值 4 3280\n",
      "IQR离群值 4 3287\n",
      "IQR离群值 4 3304\n",
      "IQR离群值 4 3307\n",
      "IQR离群值 4 3309\n",
      "IQR离群值 4 3320\n",
      "IQR离群值 4 3322\n",
      "IQR离群值 5 3323\n",
      "IQR去除离群值后的极差 3\n"
     ]
    }
   ],
   "source": [
    "#用IQR的方法识别所有的离散值，并求出去除离群值以后的极差，可以发现之前极差是9，现在极差是3，差距更大，所以最好保存\n",
    "a = pd.read_csv('churn.txt')\n",
    "a_calls = a['CustServ Calls']#由于上面已经对数据进行修改，所以需要重新载入\n",
    "a=pd.DataFrame(a_calls)\n",
    "for i in range(len(a_calls)):\n",
    "    if  a.values[i]<0 or a.values[i]>3:\n",
    "        print('IQR离群值',a_calls[i],i)\n",
    "        a_calls.pop(i)\n",
    "print('IQR去除离群值后的极差',max(a_calls)-min(a_calls))"
   ]
  },
  {
   "cell_type": "code",
   "execution_count": 525,
   "metadata": {},
   "outputs": [
    {
     "data": {
      "text/plain": [
       "array([[ 1.56676695],\n",
       "       [-0.33373776],\n",
       "       [ 1.16830364],\n",
       "       ...,\n",
       "       [ 0.01881963],\n",
       "       [ 0.62477766],\n",
       "       [ 1.00304237]])"
      ]
     },
     "execution_count": 525,
     "metadata": {},
     "output_type": "execute_result"
    }
   ],
   "source": [
    "#37.对Day Mins进行标准化\n",
    "a=pd.read_csv('churn.txt')\n",
    "a_calls = a['Day Mins']\n",
    "a_ndarray = np.array(a_calls)\n",
    "a_mean = np.mean(a_ndarray)\n",
    "a_median = np.median(a_ndarray)\n",
    "a_std = np.std(a_ndarray)\n",
    "a=pd.DataFrame(a_calls)\n",
    "a_scaled = preprocessing.scale(a)\n",
    "a_scaled"
   ]
  },
  {
   "cell_type": "code",
   "execution_count": 526,
   "metadata": {},
   "outputs": [
    {
     "data": {
      "text/plain": [
       "0.020663031485268494"
      ]
     },
     "execution_count": 526,
     "metadata": {},
     "output_type": "execute_result"
    }
   ],
   "source": [
    "#38a.计算day minutes的倾斜度\n",
    "a_qing=3*(a_mean-a_median)/a_std\n",
    "a_qing"
   ]
  },
  {
   "cell_type": "code",
   "execution_count": 527,
   "metadata": {},
   "outputs": [
    {
     "data": {
      "text/plain": [
       "0.020663031485270687"
      ]
     },
     "execution_count": 527,
     "metadata": {},
     "output_type": "execute_result"
    }
   ],
   "source": [
    "#38b.Z-score标准化的倾斜度\n",
    "as_ndarray = np.array(a_scaled)\n",
    "as_mean = np.mean(as_ndarray)\n",
    "as_median = np.median(as_ndarray)\n",
    "as_std = np.std(as_ndarray)\n",
    "as_qing=3*(as_mean-as_median)/as_std\n",
    "as_qing"
   ]
  },
  {
   "cell_type": "code",
   "execution_count": 528,
   "metadata": {},
   "outputs": [],
   "source": [
    "#38c.由于倾斜度非常小，所以我认为是几乎完全对称的"
   ]
  },
  {
   "cell_type": "code",
   "execution_count": 529,
   "metadata": {},
   "outputs": [],
   "source": [
    "#39.\n",
    "a_calls.to_excel(r\"C:\\Users\\89478\\Desktop\\39.xlsx\")"
   ]
  },
  {
   "cell_type": "code",
   "execution_count": 530,
   "metadata": {},
   "outputs": [],
   "source": [
    "#40\n",
    "a=pd.read_csv('churn.txt')\n",
    "a_calls = a['Intl Mins']\n",
    "a_calls.to_excel(r\"C:\\Users\\89478\\Desktop\\40.xlsx\")"
   ]
  },
  {
   "cell_type": "code",
   "execution_count": 531,
   "metadata": {},
   "outputs": [
    {
     "data": {
      "text/plain": [
       "array([[ 0.86674322],\n",
       "       [ 1.05857074],\n",
       "       [-0.75686906],\n",
       "       ...,\n",
       "       [-0.1774313 ],\n",
       "       [-1.21962822],\n",
       "       [ 0.80148231]])"
      ]
     },
     "execution_count": 531,
     "metadata": {},
     "output_type": "execute_result"
    }
   ],
   "source": [
    "#41\n",
    "a=pd.read_csv('churn.txt')\n",
    "a_calls = a['Night Mins']\n",
    "a=pd.DataFrame(a_calls)\n",
    "a_scaled = preprocessing.scale(a)\n",
    "a_scaled"
   ]
  },
  {
   "cell_type": "code",
   "execution_count": 532,
   "metadata": {},
   "outputs": [
    {
     "data": {
      "image/png": "[encoded data removed]",
      "text/plain": [
       "<Figure size 432x288 with 1 Axes>"
      ]
     },
     "metadata": {},
     "output_type": "display_data"
    }
   ],
   "source": [
    "a['counter'] = range(len(a_scaled))      #给数据集中增添一列，从0到最大行数\n",
    "plt.scatter(x=a['counter'],y = a_scaled)\n",
    "plt.show()"
   ]
  }
 ],
 "metadata": {
  "kernelspec": {
   "display_name": "Python 3",
   "language": "python",
   "name": "python3"
  },
  "language_info": {
   "codemirror_mode": {
    "name": "ipython",
    "version": 3
   },
   "file_extension": ".py",
   "mimetype": "text/x-python",
   "name": "python",
   "nbconvert_exporter": "python",
   "pygments_lexer": "ipython3",
   "version": "3.6.5"
  }
 },
 "nbformat": 4,
 "nbformat_minor": 2
}
